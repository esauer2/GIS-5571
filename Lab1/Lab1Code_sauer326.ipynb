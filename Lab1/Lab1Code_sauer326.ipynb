{
 "cells": [
  {
   "cell_type": "markdown",
   "id": "4c2235c7-4e46-4f24-9e37-18ea08b8e0f6",
   "metadata": {},
   "source": [
    "# API Data Pipeline"
   ]
  },
  {
   "cell_type": "markdown",
   "id": "f9ebd9d3-6c4a-4605-887a-4cae02a57761",
   "metadata": {},
   "source": [
    "### MN GIS API - Infested Waters Shapefile"
   ]
  },
  {
   "cell_type": "code",
   "execution_count": null,
   "id": "85a56a5b-f907-4484-9efc-5416878cf4f6",
   "metadata": {
    "tags": []
   },
   "outputs": [],
   "source": [
    "# Import necessary packages\n",
    "import requests\n",
    "import json\n",
    "import zipfile\n",
    "import io\n",
    "import pandas as pd\n",
    "import os\n",
    "\n",
    "# Set access url\n",
    "url=\"https://gisdata.mn.gov/api/3/action/package_show?id=c4be2e23-2c68-47ab-8b12-1b1e6df264fb\"\n",
    "\n",
    "# Pull necessary data\n",
    "r = requests.get(url, verify=False)\n",
    "print('Data pulled.')"
   ]
  },
  {
   "cell_type": "code",
   "execution_count": null,
   "id": "510c0f8f-bcd2-47d4-a124-ba70f5ef1893",
   "metadata": {
    "tags": []
   },
   "outputs": [],
   "source": [
    "# Convert the data into json, and then into a dataframe and print it\n",
    "json = r.json()\n",
    "df = pd.DataFrame.from_dict(json)\n",
    "df"
   ]
  },
  {
   "cell_type": "code",
   "execution_count": null,
   "id": "b5b81636-9388-41af-bcbf-833f26cd0966",
   "metadata": {
    "tags": []
   },
   "outputs": [],
   "source": [
    "# Get details for resources and pull out the shapefile's URL\n",
    "resources = df.loc['resources']\n",
    "reso_resu = pd.DataFrame.from_dict(resources['result'])\n",
    "shape_url = reso_resu.loc[reso_resu['resource_type'] == 'shp']['url'].tolist()\n",
    "print(\"Shapefile URL: \", shape_url[0])"
   ]
  },
  {
   "cell_type": "code",
   "execution_count": null,
   "id": "e24a803e-57e6-4540-85ea-94cb019c05d1",
   "metadata": {
    "tags": []
   },
   "outputs": [],
   "source": [
    "# Download the zip file at the URL obtained\n",
    "file_req = requests.get(shape_url[0])\n",
    "z = zipfile.ZipFile(io.BytesIO(file_req.content))\n",
    "z.extractall()"
   ]
  },
  {
   "cell_type": "markdown",
   "id": "e788480d-41f7-451a-91d2-a3f0a63fcf75",
   "metadata": {
    "tags": []
   },
   "source": [
    "### Google API - Nearby Search"
   ]
  },
  {
   "cell_type": "code",
   "execution_count": null,
   "id": "a84253e0-3e46-48b7-941f-8890af250df2",
   "metadata": {},
   "outputs": [],
   "source": [
    "# Find Place Google API\n",
    "import requests\n",
    "import pandas as pd\n",
    "import geopandas as gpd\n",
    "import json\n",
    "\n",
    "url = \"https://maps.googleapis.com/maps/api/place/nearbysearch/json?location=44.986656%2C-93.258133&radius=1500&type=establishment&keyword=water&key=YOURKEY\"\n",
    "\n",
    "payload= {}\n",
    "headers = {}\n",
    "\n",
    "# Use set url to get JSON data\n",
    "response = requests.request(\"GET\", url, headers=headers, data=payload)\n",
    "text_dat = response.text\n",
    "results = response.json()[\"results\"]"
   ]
  },
  {
   "cell_type": "code",
   "execution_count": null,
   "id": "08a008c3-e868-4327-8d67-2859545be916",
   "metadata": {},
   "outputs": [],
   "source": [
    "# Create normalized data frame\n",
    "df = pd.json_normalize(results)\n",
    "df"
   ]
  },
  {
   "cell_type": "code",
   "execution_count": null,
   "id": "a0f9fce5-c00b-43b5-928d-5b562f9a77e4",
   "metadata": {
    "tags": []
   },
   "outputs": [],
   "source": [
    "# Rename coordinate columns with more useful titles\n",
    "df.rename(columns = {'geometry.location.lat':'Latitude'}, inplace = True)\n",
    "df.rename(columns = {'geometry.location.lng':'Longitude'}, inplace = True)\n",
    "\n",
    "# Create geodataframe using the dataframe and renamed coordinate columns, set crs\n",
    "gdf = gpd.GeoDataFrame(df, geometry=gpd.points_from_xy(df.Latitude, df.Longitude), crs = 26915)\n",
    "\n",
    "# Show the new geodataframe\n",
    "print(gdf.head)"
   ]
  },
  {
   "cell_type": "markdown",
   "id": "cdae89a8-51da-48de-bce6-d2fb0c5ad56e",
   "metadata": {},
   "source": [
    "### Rectify Coordinate Systems"
   ]
  },
  {
   "cell_type": "code",
   "execution_count": null,
   "id": "fce42c1a-4604-46c7-9581-67fe9aa4bb46",
   "metadata": {},
   "outputs": [],
   "source": [
    "# Read shapefile data\n",
    "infested_waters = gpd.read_file(\"/home/sauer326/5571 Labs/env_listed_infested_waters.shp\")\n",
    "\n",
    "# View the coordinate reference system of both layers \n",
    "print(infested_waters.crs)\n",
    "print(gdf.crs)"
   ]
  },
  {
   "cell_type": "code",
   "execution_count": null,
   "id": "ebb0e17c-bf37-482d-afb6-b96aee4d5e95",
   "metadata": {},
   "outputs": [],
   "source": [
    "# Plot vector data to confirm its validity\n",
    "infested_waters.plot()\n",
    "gdf.plot()"
   ]
  },
  {
   "cell_type": "markdown",
   "id": "f36bcc04-4bd1-4018-8d32-d1d8016911ae",
   "metadata": {},
   "source": [
    "### Perform Spatial Join"
   ]
  },
  {
   "cell_type": "code",
   "execution_count": null,
   "id": "b6a842a1-f2e8-4da4-8198-730f6f09e399",
   "metadata": {},
   "outputs": [],
   "source": [
    "# Use Geopandas spatial join to combine two datasets\n",
    "joined_data = gpd.sjoin(infested_waters, gdf)"
   ]
  },
  {
   "cell_type": "markdown",
   "id": "10f38354-90bf-4a50-8910-6b418f5d4e56",
   "metadata": {},
   "source": [
    "### References\n",
    "https://geopandas.org/en/stable/docs/reference/api/geopandas.GeoDataFrame.to_file.html\n",
    "\n",
    "https://shapely.readthedocs.io/en/stable/manual.html\n",
    "\n",
    "https://www.geeksforgeeks.org/json-loads-in-python/#:~:text=loads()%20method%20can%20be,JSON%20data%20into%20Python%20Dictionary.\n",
    "\n",
    "https://sparkbyexamples.com/pandas/pandas-read-json-with-examples/#:~:text=pandas%20read_json()%20function%20can,two%20systems%20or%20web%20applications\n",
    "\n",
    "https://stackoverflow.com/questions/64390923/extract-location-coordinates-from-json-results\n",
    "\n",
    "https://www.earthdatascience.org/workshops/gis-open-source-python/reproject-vector-data-in-python/\n",
    "\n",
    "https://stackoverflow.com/questions/41168558/python-how-to-convert-json-file-to-dataframe\n",
    "\n",
    "https://geopandas.org/en/stable/gallery/create_geopandas_from_pandas.html\n",
    "\n",
    "https://geopandas.org/en/stable/gallery/spatial_joins.html\n",
    "\n",
    "https://docs.ckan.org/en/ckan-2.1.5/api.html\n",
    "\n",
    "https://automating-gis-processes.github.io/CSC18/lessons/L4/spatial-join.html"
   ]
  }
 ],
 "metadata": {
  "kernelspec": {
   "display_name": "Python 3 (ipykernel)",
   "language": "python",
   "name": "python3"
  },
  "language_info": {
   "codemirror_mode": {
    "name": "ipython",
    "version": 3
   },
   "file_extension": ".py",
   "mimetype": "text/x-python",
   "name": "python",
   "nbconvert_exporter": "python",
   "pygments_lexer": "ipython3",
   "version": "3.9.7"
  }
 },
 "nbformat": 4,
 "nbformat_minor": 5
}
